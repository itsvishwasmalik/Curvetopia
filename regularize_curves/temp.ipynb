{
 "cells": [
  {
   "cell_type": "code",
   "execution_count": 2,
   "metadata": {},
   "outputs": [
    {
     "name": "stderr",
     "output_type": "stream",
     "text": [
      "qt.qpa.plugin: Could not find the Qt platform plugin \"wayland\" in \"/home/itsvishwasmalik/Documents/Curvetopia/.curvetopiaenv/lib/python3.12/site-packages/cv2/qt/plugins\"\n",
      "Only C and default locale supported with the posix collation implementation\n",
      "Only C and default locale supported with the posix collation implementation\n",
      "Case insensitive sorting unsupported in the posix collation implementation\n",
      "Numeric mode unsupported in the posix collation implementation\n"
     ]
    }
   ],
   "source": [
    "import cv2\n",
    "import matplotlib.pyplot as plt\n",
    "import numpy as np\n",
    "\n",
    "# reading the image\n",
    "img = cv2.imread('isolated_plot.png')\n",
    "\n",
    "# converting the image to grayscale\n",
    "gray = cv2.cvtColor(img, cv2.COLOR_BGR2GRAY)\n",
    "\n",
    "# applying the thresholding\n",
    "_, threshold = cv2.threshold(gray, 127, 255, cv2.THRESH_BINARY)\n",
    "\n",
    "# finding the contours\n",
    "contour, _ = cv2.findContours(threshold, cv2.RETR_TREE, cv2.CHAIN_APPROX_SIMPLE)\n",
    "i=0\n",
    "\n",
    "# list for storing the names of all the shapes\n",
    "\n",
    "for cnt in contour:\n",
    "    if i==0:\n",
    "        i+=1\n",
    "        continue\n",
    "\n",
    "    approx = cv2.approxPolyDP(\n",
    "        cnt, 0.01*cv2.arcLength(cnt, True), True)\n",
    "    \n",
    "    #drawcontours function\n",
    "    cv2.drawContours(img, [approx], 0, (0, 0, 255), 5)\n",
    "\n",
    "    # Finding the center point of the shape\n",
    "    M = cv2.moments(cnt)\n",
    "\n",
    "    if M['m00'] != 0.0:\n",
    "        x = int(M['m10']/M['m00'])\n",
    "        y = int(M['m01']/M['m00'])\n",
    "\n",
    "    # putting the names of the shapes at the center of the shapes\n",
    "\n",
    "    if len(approx) == 3:\n",
    "        cv2.putText(img, 'Triangle', (x, y),\n",
    "                    cv2.FONT_HERSHEY_SIMPLEX, 0.5, (255, 255, 255), 2)\n",
    "    elif len(approx) == 4:\n",
    "        cv2.putText(img, 'Rectangle', (x, y),\n",
    "                    cv2.FONT_HERSHEY_SIMPLEX, 0.5, (255, 255, 255), 2)\n",
    "    elif len(approx) == 5:\n",
    "        cv2.putText(img, 'Pentagon', (x, y),\n",
    "                    cv2.FONT_HERSHEY_SIMPLEX, 0.5, (255, 255, 255), 2)\n",
    "    elif len(approx) == 6:\n",
    "        cv2.putText(img, 'Hexagon', (x, y),\n",
    "                    cv2.FONT_HERSHEY_SIMPLEX, 0.5, (255, 255, 255), 2)\n",
    "    else:\n",
    "        cv2.putText(img, 'Circle', (x, y),\n",
    "                    cv2.FONT_HERSHEY_SIMPLEX, 0.5, (255, 255, 255), 2)\n",
    "        \n",
    "# displaying the image\n",
    "cv2.imshow('shapes', img)\n",
    "cv2.waitKey(0)\n",
    "cv2.destroyAllWindows()"
   ]
  }
 ],
 "metadata": {
  "kernelspec": {
   "display_name": ".curvetopiaenv",
   "language": "python",
   "name": "python3"
  },
  "language_info": {
   "codemirror_mode": {
    "name": "ipython",
    "version": 3
   },
   "file_extension": ".py",
   "mimetype": "text/x-python",
   "name": "python",
   "nbconvert_exporter": "python",
   "pygments_lexer": "ipython3",
   "version": "3.12.3"
  }
 },
 "nbformat": 4,
 "nbformat_minor": 2
}
